{
 "cells": [
  {
   "cell_type": "markdown",
   "metadata": {},
   "source": [
    "# Capstone Project - The Battle of the Neighborhoods (Week 1)"
   ]
  },
  {
   "cell_type": "markdown",
   "metadata": {},
   "source": [
    "## Introduction: Business Problem \n",
    "\n",
    "### <font size=\"4\">This project defined to find a safe and secure location for opening of commercial establishments in Vancouver, BC, Canada. Specifically, this report will be targeted to stakeholders interested in opening any business place i.e. Liquor Store in the Vancouver City.</font>\n",
    "\n",
    "### Following are the steps that will be taken:\n",
    "   - The first task would be to choose the safest borough by analysing crime data.\n",
    "   - Shortlisting a neighbourhood, where liquor stores are not amongst the most commom venues\n",
    "   - As close to the city as possible.\n",
    "   \n",
    "### Data\n",
    "### <font size=\"2.5\">Based on the business problem, factors that will influence the analysis are:</font>\n",
    "   - Reviewing the safest borough based on crime statistics\n",
    "   - Reviewing the most common venues\n",
    "   - Selecting the right neighbourhood within the borough\n",
    "   \n",
    "### <font size=\"2.5\">For the capstone project we will be using the geographical coordinates of Vancouver to plot neighbourhoods in a borough that is safe and in the city's vicinity, and finally cluster our neighborhoods and present the findings.</font> \n",
    "\n",
    "### <font size=\"2.5\">To extract/generate the required information, following are the steps and data sources that will be needed:</font> \n",
    "   - <b><font size= \"2.5\">Step 1</font></b>: Using data set from Kaggle containing the Vancouver Crimes from 2003 to 2019: A dataset consisting of the crime statistics of each Neighbourhood in Vancouver along with type of crime, recorded year, month and hour. \n",
    "   - <b><font size= \"2.5\">Step 2</font></b>: Gathering additional data list to officially categorized boroughs in Vancouver from Wikipedia. This information will be used to map the existing data where each neighbourhood can be assigned with its respective borough.\n",
    "   - <b><font size= \"2.5\">Step 3</font></b>: Creating a new consolidated dataset for the neighborhoods, along with their boroughs, crime data and the respective neighbourhood's co-ordinates. The latitude and longitude data will be fetched using OpenCage Geocoder. To explore the neighbourhood by plotting it on maps using Folium and perform exploratory data analysis.  \n",
    "   - <b><font size= \"2.5\">Step 4</font></b>: Creating a new consolidated dataset of the neighborhoods, boroughs, and the most common venues and the respective neighbourhood along with co-ordinates.This data will be fetched using Four Square API to explore the neighbourhood venues and to apply machine learning algorithm to cluster the neighbourhoods and present the findings by plotting it on maps using Folium."
   ]
  },
  {
   "cell_type": "code",
   "execution_count": null,
   "metadata": {},
   "outputs": [],
   "source": []
  }
 ],
 "metadata": {
  "kernelspec": {
   "display_name": "Python",
   "language": "python",
   "name": "conda-env-python-py"
  },
  "language_info": {
   "codemirror_mode": {
    "name": "ipython",
    "version": 3
   },
   "file_extension": ".py",
   "mimetype": "text/x-python",
   "name": "python",
   "nbconvert_exporter": "python",
   "pygments_lexer": "ipython3",
   "version": "3.6.7"
  }
 },
 "nbformat": 4,
 "nbformat_minor": 4
}
